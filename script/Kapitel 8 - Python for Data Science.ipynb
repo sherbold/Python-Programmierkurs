{
 "cells": [
  {
   "cell_type": "markdown",
   "metadata": {},
   "source": [
    "# Inhalt\n",
    "\n",
    "Im achten Kapitel gehen wir wichtige Packages von Python für Data Science durch und decken die folgenden Konzepte ab:\n",
    "- Matrizen und Dataframes\n",
    "- Grafiken\n",
    "- Graphen ($G=(V,E)$)"
   ]
  },
  {
   "cell_type": "markdown",
   "metadata": {},
   "source": [
    "# Python für Data Science\n",
    "\n",
    "Ein wichtiger Grund für die aktuelle Popularität von Python ist \"Data Science\", und die vielen Packages mit denen man in Python Daten verarbeiten und analysieren kann. Einen Überblick über beliebte Packages (nicht nur für Data Science) findet man zum Beispiel [hier](https://github.com/vinta/awesome-python). Ein vollumfänglicher Überblick ist in diesem Rahmen weder möglich noch sinnvoll. Stattdessen werden Beispielhaft die Packages ```numpy```, ```pandas``` und ```matplotlib``` aus dem [SciPy.org Projekt](https://scipy.org/), sowie das Package ```networkx```, betrachtet. Weitere Packages, ìnsbesondere Packages zur Datenanalyse und Modelbildung wie ```sklearn```, ```statmodels``` und ```tensorflow``` können wir leider aus Zeitgründen nicht näher betrachten. \n",
    "\n",
    "# numpy\n",
    "\n",
    "Der Kern des [Packages ```numpy```](http://www.numpy.org/) ist der Datentyp ```array``` für Vektoren und Matrizen. Auf der Grundlage von ```array``` stellt ```numpy``` Operationen für das wissenschaftliche Rechnen mit numerischen Daten zu Verfügung, von einfachen Berechnungen mit Matrizen, über lineare Alegebra, bis hin zu Fouriertransformationen. Auch Zufallsgeneratoren und einfache statistische Funktionen sind Teil von ```numpy```. \n",
    "\n",
    "## Vektoren und Matrizen\n",
    "\n",
    "Die Faustregel ist, dass in ```numpy``` alles vom Typ ```array``` ist (synonym für ```ndarray```). Die Anzahl der Dimensionen bestimmt, ob es ein Vektor (1 Dimension), eine Matrix (2 Dimensionen), oder ein Tensor (mehr als zwei Dimensionen) ist. Man kann Vektoren und Matrizen einfach aus Listen oder anderen Sequenztypen erstellen. Es gibt außerdem noch einige nützliche Hilfsfunktionen, wenn man Vektoren und Matrizen mit bestimmen Mustern erstellen möchte. "
   ]
  },
  {
   "cell_type": "code",
   "execution_count": 1,
   "metadata": {},
   "outputs": [
    {
     "name": "stdout",
     "output_type": "stream",
     "text": [
      "details for vector\n",
      "[1 2 3]\n",
      "ndim: 1\n",
      "size: 3\n",
      "shape (3,)\n",
      "\n",
      "details for matrix\n",
      "[[1 2 3]\n",
      " [4 5 6]]\n",
      "ndim: 2\n",
      "size: 6\n",
      "shape (2, 3)\n",
      "\n",
      "creating a vector as a range\n",
      "[ 0  1  2  3  4  5  6  7  8  9 10 11 12 13 14]\n",
      "\n",
      "creating a lineary spaced sample\n",
      "[0.         0.01010101 0.02020202 0.03030303 0.04040404 0.05050505\n",
      " 0.06060606 0.07070707 0.08080808 0.09090909 0.1010101  0.11111111\n",
      " 0.12121212 0.13131313 0.14141414 0.15151515 0.16161616 0.17171717\n",
      " 0.18181818 0.19191919 0.2020202  0.21212121 0.22222222 0.23232323\n",
      " 0.24242424 0.25252525 0.26262626 0.27272727 0.28282828 0.29292929\n",
      " 0.3030303  0.31313131 0.32323232 0.33333333 0.34343434 0.35353535\n",
      " 0.36363636 0.37373737 0.38383838 0.39393939 0.4040404  0.41414141\n",
      " 0.42424242 0.43434343 0.44444444 0.45454545 0.46464646 0.47474747\n",
      " 0.48484848 0.49494949 0.50505051 0.51515152 0.52525253 0.53535354\n",
      " 0.54545455 0.55555556 0.56565657 0.57575758 0.58585859 0.5959596\n",
      " 0.60606061 0.61616162 0.62626263 0.63636364 0.64646465 0.65656566\n",
      " 0.66666667 0.67676768 0.68686869 0.6969697  0.70707071 0.71717172\n",
      " 0.72727273 0.73737374 0.74747475 0.75757576 0.76767677 0.77777778\n",
      " 0.78787879 0.7979798  0.80808081 0.81818182 0.82828283 0.83838384\n",
      " 0.84848485 0.85858586 0.86868687 0.87878788 0.88888889 0.8989899\n",
      " 0.90909091 0.91919192 0.92929293 0.93939394 0.94949495 0.95959596\n",
      " 0.96969697 0.97979798 0.98989899 1.        ]\n",
      "\n",
      "reshaping the elements of a vector into a matrix\n",
      "[[ 0  1  2  3  4]\n",
      " [ 5  6  7  8  9]\n",
      " [10 11 12 13 14]]\n",
      "\n",
      "zeros\n",
      "[[0. 0. 0. 0. 0.]\n",
      " [0. 0. 0. 0. 0.]\n",
      " [0. 0. 0. 0. 0.]]\n",
      "\n",
      "ones\n",
      "[[1. 1. 1. 1. 1.]\n",
      " [1. 1. 1. 1. 1.]\n",
      " [1. 1. 1. 1. 1.]]\n",
      "\n",
      "identity\n",
      "[[1. 0. 0. 0. 0.]\n",
      " [0. 1. 0. 0. 0.]\n",
      " [0. 0. 1. 0. 0.]\n",
      " [0. 0. 0. 1. 0.]\n",
      " [0. 0. 0. 0. 1.]]\n",
      "\n",
      "empty matrix without initialization (values cannot be predicted)\n",
      "[[1. 1. 1. 1. 1.]\n",
      " [1. 1. 1. 1. 1.]\n",
      " [1. 1. 1. 1. 1.]]\n",
      "\n"
     ]
    }
   ],
   "source": [
    "import numpy as np                      # numpy is usually imported with the alias np\n",
    "\n",
    "vector = np.array([1,2,3])\n",
    "print(\"details for vector\")\n",
    "print(vector)\n",
    "print(\"ndim:\", vector.ndim)             # dimension of the array: 1 is a vector, 2 is a matrix, 3 upwards are tensors\n",
    "print(\"size:\", vector.size)             # number of elements in the array\n",
    "print(\"shape\", vector.shape)            # dimensions of the array as a tuple with one entry per dimension\n",
    "\n",
    "print()\n",
    "matrix = np.array([[1,2,3],[4,5,6]])\n",
    "print(\"details for matrix\")\n",
    "print(matrix)\n",
    "print(\"ndim:\", matrix.ndim)\n",
    "print(\"size:\", matrix.size)\n",
    "print(\"shape\", matrix.shape)\n",
    "\n",
    "print()\n",
    "print(\"creating a vector as a range\")\n",
    "vector_from_arange = np.arange(15)\n",
    "print(vector_from_arange)\n",
    "\n",
    "print()\n",
    "print(\"creating a lineary spaced sample\")\n",
    "print(np.linspace(0,1,100))\n",
    "\n",
    "print()\n",
    "print(\"reshaping the elements of a vector into a matrix\")\n",
    "matrix_from_vector = vector_from_arange.reshape(3,5)\n",
    "print(matrix_from_vector)\n",
    "\n",
    "print()\n",
    "print(\"zeros\")\n",
    "print(np.zeros( (3,5) ))\n",
    "\n",
    "print()\n",
    "print(\"ones\")\n",
    "print(np.ones( (3,5) ))\n",
    "\n",
    "print()\n",
    "print(\"identity\")\n",
    "print(np.identity( 5) ) \n",
    "\n",
    "print()\n",
    "print(\"empty matrix without initialization (values cannot be predicted)\")\n",
    "print(np.empty( (3,5) ))\n",
    "\n",
    "print()"
   ]
  },
  {
   "cell_type": "markdown",
   "metadata": {},
   "source": [
    "Der Zugriff auf ```array``` ist ähnlich wie bei anderen Datentypen in Python. Es gibt Indexzugriffe, man kann Slicing benutzen, sowie iterieren. "
   ]
  },
  {
   "cell_type": "code",
   "execution_count": 2,
   "metadata": {},
   "outputs": [
    {
     "name": "stdout",
     "output_type": "stream",
     "text": [
      "second row:\n",
      "[0.2020202  0.21212121 0.22222222 0.23232323 0.24242424 0.25252525\n",
      " 0.26262626 0.27272727 0.28282828 0.29292929]\n",
      "second row:\n",
      "[0.2020202  0.21212121 0.22222222 0.23232323 0.24242424 0.25252525\n",
      " 0.26262626 0.27272727 0.28282828 0.29292929]\n",
      "second column:\n",
      "[0.02020202 0.12121212 0.22222222 0.32323232 0.42424242 0.52525253\n",
      " 0.62626263 0.72727273 0.82828283 0.92929293]\n",
      "rows 2-3, column 5-7\n",
      "[[0.14141414 0.15151515 0.16161616]\n",
      " [0.24242424 0.25252525 0.26262626]]\n",
      "first element in each row: \n",
      "0.0\n",
      "0.10101010101010102\n",
      "0.20202020202020204\n",
      "0.30303030303030304\n",
      "0.4040404040404041\n",
      "0.5050505050505051\n",
      "0.6060606060606061\n",
      "0.7070707070707072\n",
      "0.8080808080808082\n",
      "0.9090909090909092\n"
     ]
    }
   ],
   "source": [
    "matrix = np.linspace(0,1,100).reshape(10,10)\n",
    "print(\"second row:\")\n",
    "print(matrix[2])\n",
    "print(\"second row:\")\n",
    "print(matrix[2,:])\n",
    "print(\"second column:\")\n",
    "print(matrix[:,2])\n",
    "print(\"rows 2-3, column 5-7\")\n",
    "print(matrix[1:3,4:7])\n",
    "\n",
    "print(\"first element in each row: \")\n",
    "for row in matrix:\n",
    "    print(row[0])"
   ]
  },
  {
   "cell_type": "markdown",
   "metadata": {},
   "source": [
    "## Linear Algebra\n",
    "\n",
    "Der große Vorteil von ```array``` gegenüber den Boardmitteln von Python sind die Funktionen für [lineare Algebra](https://docs.scipy.org/doc/numpy/reference/routines.linalg.html), die weit über einfache Multiplikationen hinaus gehen. "
   ]
  },
  {
   "cell_type": "code",
   "execution_count": 3,
   "metadata": {},
   "outputs": [
    {
     "name": "stdout",
     "output_type": "stream",
     "text": [
      "original matrix:\n",
      "[[1 2]\n",
      " [3 4]]\n",
      "\n",
      "transposed matrix:\n",
      "[[1 3]\n",
      " [2 4]]\n",
      "\n",
      "inverse of the matrix\n",
      "[[-2.   1. ]\n",
      " [ 1.5 -0.5]]\n",
      "\n",
      "product of the matrix with itself\n",
      "[[ 7 10]\n",
      " [15 22]]\n",
      "\n",
      "trace of the matrix, i.e., sum of diagonal\n",
      "5\n",
      "\n",
      "determinant of the matrix\n",
      "-2.0000000000000004\n",
      "\n",
      "solution to the linear equation system matrix*x = [5,7]\n",
      "[-3.  4.]\n"
     ]
    }
   ],
   "source": [
    "matrix = np.array([[1, 2], [3, 4]])\n",
    "\n",
    "print(\"original matrix:\")\n",
    "print(matrix)\n",
    "\n",
    "print()\n",
    "print(\"transposed matrix:\")\n",
    "print(matrix.transpose())\n",
    "\n",
    "print()\n",
    "print(\"inverse of the matrix\")\n",
    "print(np.linalg.inv(matrix))\n",
    "\n",
    "print()\n",
    "print(\"product of the matrix with itself\")\n",
    "print(matrix @ matrix)\n",
    "\n",
    "print()\n",
    "print(\"trace of the matrix, i.e., sum of diagonal\")\n",
    "print(np.trace(matrix))\n",
    "\n",
    "print()\n",
    "print(\"determinant of the matrix\")\n",
    "print(np.linalg.det(matrix))\n",
    "\n",
    "print()\n",
    "print(\"solution to the linear equation system matrix*x = [5,7]\") \n",
    "print(np.linalg.solve(matrix, np.array([5,7])))"
   ]
  },
  {
   "cell_type": "markdown",
   "metadata": {},
   "source": [
    "# Pandas Dataframes\n",
    "\n",
    "Mit ```numpy``` hat man ein mächtige Werkzeug zum Arbeiten mit Matrizen. Es gibt jedoch auch einige Aspekte, die man mit ```numpy``` nicht ohne weitere lösen kann, zum Beispiel:\n",
    "- Namen für Zeilen oder Spalten, sowie den Zugriff über den Namen.\n",
    "- Verschiedene Datentypen für Spalten, zum Beispiel Zeichenketten und numerische Daten.\n",
    "- Aggregationen und Join-Operationen, wie man sie von relationalen Datenbanken kennt.\n",
    "\n",
    "Mit dem [Package ```pandas```](https://pandas.pydata.org/) wird diese Lücke geschlossen. Im Mittelpunkt von ```pandas``` stehen die Datentypen ```Series``` und ```DataFrame```. Eine ```Series``` ist ein 1-Dimensionaler Datentyp analog zu Vektoren, einzelnen Elemente können jedoch benannt sein. Ein ```DataFrame``` ist ein 2-Dimensionaler Datentyp, ähnlich zu Matrizen. In einem Dataframe kann jedoch jede Spalte einen anderen Typ haben, außerdem können sowohl Zeilen, als auch Spalten, benannt sein. Im folgenden Konzentrieren wir uns auf den Datentyp ```DataFrame```.\n",
    "\n",
    "## Arbeiten mit Dataframes\n",
    "\n",
    "Für ```pandas``` gilt, ähnlich wie für die Sprache Python, dass es viele Wege gibt, die selbe Aufgabe zu lösen. Hier sind nur einige Beispiele, wie man einen Dataframe erstellen kann. "
   ]
  },
  {
   "cell_type": "code",
   "execution_count": 4,
   "metadata": {},
   "outputs": [
    {
     "name": "stdout",
     "output_type": "stream",
     "text": [
      "data frame without names\n",
      "   0  1\n",
      "0  1  2\n",
      "1  3  4\n",
      "\n",
      "...with names for rows and columns\n",
      "      col1  col2\n",
      "row1     1     2\n",
      "row2     3     4\n",
      "\n",
      "...from a list of dictionaries:\n",
      "   col1  col2  col3\n",
      "0     1     2   NaN\n",
      "1     3     4   5.0\n",
      "\n",
      "...from a dictionary of lists\n",
      "   col1  col2\n",
      "0     1     2\n",
      "1     3     4\n"
     ]
    }
   ],
   "source": [
    "import numpy as np\n",
    "import pandas as pd                           # pandas is usually imported with the alias pd\n",
    "\n",
    "df = pd.DataFrame([[1, 2], [3, 4]])           # initialize like numpy array\n",
    "df = pd.DataFrame(np.array([[1, 2], [3, 4]])) # initialize from numpy array\n",
    "print(\"data frame without names\")\n",
    "print(df)\n",
    "\n",
    "print()\n",
    "print(\"...with names for rows and columns\")\n",
    "df = pd.DataFrame([[1, 2], [3, 4]], index=[\"row1\", \"row2\"], columns=[\"col1\",\"col2\"])\n",
    "print(df)\n",
    "\n",
    "\n",
    "print()\n",
    "print(\"...from a list of dictionaries:\")\n",
    "df = pd.DataFrame([{\"col1\": 1, \"col2\":2}, {\"col1\":3, \"col2\":4, \"col3\":5}])\n",
    "print(df)\n",
    "\n",
    "print()\n",
    "print(\"...from a dictionary of lists\")\n",
    "df = pd.DataFrame({\"col1\":[1,3], \"col2\":[2,4]})\n",
    "print(df)"
   ]
  },
  {
   "cell_type": "markdown",
   "metadata": {},
   "source": [
    "Oben sehen wir die Textausgabe der Dataframes. Jupyter Notebooks können Dataframes auch formatiert darstellen. Hierzu muss der Dataframe die letzte Anweisung einer Zelle sein. "
   ]
  },
  {
   "cell_type": "code",
   "execution_count": 5,
   "metadata": {},
   "outputs": [
    {
     "data": {
      "text/html": [
       "<div>\n",
       "<style scoped>\n",
       "    .dataframe tbody tr th:only-of-type {\n",
       "        vertical-align: middle;\n",
       "    }\n",
       "\n",
       "    .dataframe tbody tr th {\n",
       "        vertical-align: top;\n",
       "    }\n",
       "\n",
       "    .dataframe thead th {\n",
       "        text-align: right;\n",
       "    }\n",
       "</style>\n",
       "<table border=\"1\" class=\"dataframe\">\n",
       "  <thead>\n",
       "    <tr style=\"text-align: right;\">\n",
       "      <th></th>\n",
       "      <th>col1</th>\n",
       "      <th>col2</th>\n",
       "    </tr>\n",
       "  </thead>\n",
       "  <tbody>\n",
       "    <tr>\n",
       "      <th>0</th>\n",
       "      <td>1</td>\n",
       "      <td>2</td>\n",
       "    </tr>\n",
       "    <tr>\n",
       "      <th>1</th>\n",
       "      <td>3</td>\n",
       "      <td>4</td>\n",
       "    </tr>\n",
       "  </tbody>\n",
       "</table>\n",
       "</div>"
      ],
      "text/plain": [
       "   col1  col2\n",
       "0     1     2\n",
       "1     3     4"
      ]
     },
     "execution_count": 5,
     "metadata": {},
     "output_type": "execute_result"
    }
   ],
   "source": [
    "df"
   ]
  },
  {
   "cell_type": "markdown",
   "metadata": {},
   "source": [
    "Intern basieren Dataframes auf ```numpy``` arrays. Über das ```values``` Attribut kann man einfach auf das ```numpy``` array zugreifen. "
   ]
  },
  {
   "cell_type": "code",
   "execution_count": 6,
   "metadata": {},
   "outputs": [
    {
     "data": {
      "text/plain": [
       "array([[1, 2],\n",
       "       [3, 4]])"
      ]
     },
     "execution_count": 6,
     "metadata": {},
     "output_type": "execute_result"
    }
   ],
   "source": [
    "df.values"
   ]
  },
  {
   "cell_type": "markdown",
   "metadata": {},
   "source": [
    "Es gibt viele verschiedene Varianten, [wie man auf Dataframes zugreifen kann](https://pandas.pydata.org/pandas-docs/stable/user_guide/indexing.html). Der Zugriff auf Dataframes kann sowohl über die numerischen Spalten und Zeilenindizes geschehen, als auch über die Namen. Neben der Möglichkeit auf Spalten über den Namen, bzw. Reihen über Slicing direkt durch den ```[]``` Operator zuzugreifen, spielen die Methoden ```loc``` und ```iloc``` von Dataframes eine zentrale Rolle (kurzform von *location*, bzw. *integer location*), sowie die Methoden ```at``` und ```iat``` zum Zugriff auf einzelne Elemente. "
   ]
  },
  {
   "cell_type": "code",
   "execution_count": 7,
   "metadata": {},
   "outputs": [
    {
     "name": "stdout",
     "output_type": "stream",
     "text": [
      "access columns using the name\n",
      "row1    1\n",
      "row2    3\n",
      "row3    5\n",
      "Name: col1, dtype: int64\n",
      "\n",
      "access  multiple columns using a list of names\n",
      "      col1     col3\n",
      "row1     1     here\n",
      "row2     3      are\n",
      "row3     5  strings\n",
      "\n",
      "access a slice of rows\n",
      "      col1  col2  col3\n",
      "row1     1     2  here\n",
      "row2     3     4   are\n",
      "\n",
      "access row by name\n",
      "col1       1\n",
      "col2       2\n",
      "col3    here\n",
      "Name: row1, dtype: object\n",
      "\n",
      "access slice of rows by name\n",
      "      col1  col2  col3\n",
      "row1     1     2  here\n",
      "row2     3     4   are\n",
      "\n",
      "slice of rows and columns\n",
      "      col1  col2\n",
      "row1     1     2\n",
      "row2     3     4\n",
      "\n",
      "loc also supports lists of names\n",
      "      col1     col3\n",
      "row1     1     here\n",
      "row3     5  strings\n",
      "\n",
      "iloc is the counterpart to loc that works with integers instead of names\n",
      "      col2  col3\n",
      "row1     2  here\n",
      "row2     4   are\n",
      "\n",
      "use at/iat to access single values (more efficient than loc/iloc)\n",
      "here\n"
     ]
    }
   ],
   "source": [
    "df = pd.DataFrame({\"col1\":[1,3,5], \"col2\":[2,4,6], \"col3\":[\"here\",\"are\",\"strings\"]}, index=[\"row1\", \"row2\", \"row3\"])\n",
    "\n",
    "print(\"access columns using the name\")\n",
    "print(df[\"col1\"])\n",
    "\n",
    "print()\n",
    "print(\"access  multiple columns using a list of names\")\n",
    "print(df[[\"col1\", \"col3\"]])\n",
    "\n",
    "print()\n",
    "print(\"access a slice of rows\")\n",
    "print(df[0:2])\n",
    "\n",
    "print()\n",
    "print(\"access row by name\")\n",
    "print(df.loc[\"row1\"])\n",
    "\n",
    "print()\n",
    "print(\"access slice of rows by name\")\n",
    "print(df.loc[\"row1\":\"row2\"])\n",
    "\n",
    "print()\n",
    "print(\"slice of rows and columns\")\n",
    "print(df.loc[\"row1\":\"row2\", \"col1\":\"col2\"])\n",
    "\n",
    "print()\n",
    "print(\"loc also supports lists of names\")\n",
    "print(df.loc[[\"row1\",\"row3\"], [\"col1\",\"col3\"]])\n",
    "\n",
    "print()\n",
    "print(\"iloc is the counterpart to loc that works with integers instead of names\")\n",
    "print(df.iloc[0:2,1:3])\n",
    "\n",
    "print()\n",
    "print(\"use at/iat to access single values (more efficient than loc/iloc)\")\n",
    "print(df.at[\"row1\",\"col3\"])"
   ]
  },
  {
   "cell_type": "markdown",
   "metadata": {},
   "source": [
    "Dataframes können verändert werden. Man kann sowohl Spalten, als auch Zeilen, hinzufügen oder löschen. "
   ]
  },
  {
   "cell_type": "code",
   "execution_count": 8,
   "metadata": {},
   "outputs": [
    {
     "name": "stdout",
     "output_type": "stream",
     "text": [
      "add a new column using the name\n",
      "      col1  col2  col3\n",
      "row1     1     2     5\n",
      "row2     3     4     6\n",
      "\n",
      "assing a column to a specific position with insert\n",
      "      col1  col4  col2  col3\n",
      "row1     1     7     2     5\n",
      "row2     3     8     4     6\n",
      "\n",
      "delete a column using del\n",
      "      col1  col4  col3\n",
      "row1     1     7     5\n",
      "row2     3     8     6\n",
      "\n",
      "add a new row\n",
      "      col1  col4  col3\n",
      "row1     1     7     5\n",
      "row2     3     8     6\n",
      "row3     6     7     8\n",
      "\n",
      "delete a row\n",
      "      col1  col4  col3\n",
      "row1     1     7     5\n",
      "row3     6     7     8\n"
     ]
    }
   ],
   "source": [
    "df = pd.DataFrame({\"col1\":[1,3], \"col2\":[2,4]}, index=[\"row1\", \"row2\"])\n",
    "\n",
    "print(\"add a new column using the name\")\n",
    "df[\"col3\"] = [5,6]\n",
    "print(df)\n",
    "\n",
    "print()\n",
    "print(\"assing a column to a specific position with insert\")\n",
    "df.insert(1, \"col4\", [7,8])\n",
    "print(df)\n",
    "\n",
    "print()\n",
    "print(\"delete a column using del\")\n",
    "del df[\"col2\"]\n",
    "print(df)\n",
    "\n",
    "print()\n",
    "print(\"add a new row\")\n",
    "df.loc[\"row3\"] = [6,7,8]      # df.append([6,7,8]) is similar, but would not change df but create a new data frame\n",
    "print(df)\n",
    "\n",
    "print()\n",
    "print(\"delete a row\")\n",
    "df.drop(\"row2\", inplace=True) # inplace defines that the df is changed, with false a new data frame is created\n",
    "print(df)"
   ]
  },
  {
   "cell_type": "markdown",
   "metadata": {},
   "source": [
    "## Aggregieren und Mergen\n",
    "\n",
    "Allein durch diese Arten des Zugriffs und die Vermischung von Zeichenketten und Zahlen bieten Dataframes schon wesentliche Vorteile gegenüber den ```numpy``` Matrizen. Ein weiterer Grund, warum Dataframes so beliebt sind, ist die Unterstützung von Aggregationsoperationen und *Joins* zum zusammenführen von Daten. Außerdem kann man Dataframes einfach aneinander anhängen, selbst wenn diese unterschiedliche Spalten haben."
   ]
  },
  {
   "cell_type": "code",
   "execution_count": 9,
   "metadata": {},
   "outputs": [
    {
     "name": "stdout",
     "output_type": "stream",
     "text": [
      "group by same values in column A and calculate the sum for each group\n",
      "       id         B         C\n",
      "A                            \n",
      "one     7 -0.259126  2.826728\n",
      "three  10  0.593286 -0.860639\n",
      "two    11  0.502637  2.204369\n",
      "\n",
      "merge two data frames such that the rows that are equal in the 'on' column are combined\n",
      "   id      A         B         C         D         E\n",
      "0   0    one -0.731948  1.564686 -0.149049  0.286115\n",
      "1   1    one -0.904705  0.780510  1.017423 -0.144058\n",
      "2   2    two -0.169887  2.822732 -1.273865  0.701657\n",
      "3   3  three  0.698322  0.368751  0.744752 -0.739712\n",
      "4   4    two -0.254313 -1.030701 -0.694788 -0.832678\n",
      "5   5    two  0.926836  0.412337 -2.191988  0.286772\n",
      "6   6    one  1.377527  0.481531  1.084732  0.937349\n",
      "7   7  three -0.105036 -1.229390 -0.228298 -1.405262\n",
      "append two dataframes, missing columns are filled with NaN\n"
     ]
    },
    {
     "data": {
      "text/html": [
       "<div>\n",
       "<style scoped>\n",
       "    .dataframe tbody tr th:only-of-type {\n",
       "        vertical-align: middle;\n",
       "    }\n",
       "\n",
       "    .dataframe tbody tr th {\n",
       "        vertical-align: top;\n",
       "    }\n",
       "\n",
       "    .dataframe thead th {\n",
       "        text-align: right;\n",
       "    }\n",
       "</style>\n",
       "<table border=\"1\" class=\"dataframe\">\n",
       "  <thead>\n",
       "    <tr style=\"text-align: right;\">\n",
       "      <th></th>\n",
       "      <th>id</th>\n",
       "      <th>A</th>\n",
       "      <th>B</th>\n",
       "      <th>C</th>\n",
       "      <th>D</th>\n",
       "      <th>E</th>\n",
       "    </tr>\n",
       "  </thead>\n",
       "  <tbody>\n",
       "    <tr>\n",
       "      <th>0</th>\n",
       "      <td>0</td>\n",
       "      <td>one</td>\n",
       "      <td>-0.731948</td>\n",
       "      <td>1.564686</td>\n",
       "      <td>NaN</td>\n",
       "      <td>NaN</td>\n",
       "    </tr>\n",
       "    <tr>\n",
       "      <th>1</th>\n",
       "      <td>1</td>\n",
       "      <td>one</td>\n",
       "      <td>-0.904705</td>\n",
       "      <td>0.780510</td>\n",
       "      <td>NaN</td>\n",
       "      <td>NaN</td>\n",
       "    </tr>\n",
       "    <tr>\n",
       "      <th>2</th>\n",
       "      <td>2</td>\n",
       "      <td>two</td>\n",
       "      <td>-0.169887</td>\n",
       "      <td>2.822732</td>\n",
       "      <td>NaN</td>\n",
       "      <td>NaN</td>\n",
       "    </tr>\n",
       "    <tr>\n",
       "      <th>3</th>\n",
       "      <td>3</td>\n",
       "      <td>three</td>\n",
       "      <td>0.698322</td>\n",
       "      <td>0.368751</td>\n",
       "      <td>NaN</td>\n",
       "      <td>NaN</td>\n",
       "    </tr>\n",
       "    <tr>\n",
       "      <th>4</th>\n",
       "      <td>4</td>\n",
       "      <td>two</td>\n",
       "      <td>-0.254313</td>\n",
       "      <td>-1.030701</td>\n",
       "      <td>NaN</td>\n",
       "      <td>NaN</td>\n",
       "    </tr>\n",
       "    <tr>\n",
       "      <th>5</th>\n",
       "      <td>5</td>\n",
       "      <td>two</td>\n",
       "      <td>0.926836</td>\n",
       "      <td>0.412337</td>\n",
       "      <td>NaN</td>\n",
       "      <td>NaN</td>\n",
       "    </tr>\n",
       "    <tr>\n",
       "      <th>6</th>\n",
       "      <td>6</td>\n",
       "      <td>one</td>\n",
       "      <td>1.377527</td>\n",
       "      <td>0.481531</td>\n",
       "      <td>NaN</td>\n",
       "      <td>NaN</td>\n",
       "    </tr>\n",
       "    <tr>\n",
       "      <th>7</th>\n",
       "      <td>7</td>\n",
       "      <td>three</td>\n",
       "      <td>-0.105036</td>\n",
       "      <td>-1.229390</td>\n",
       "      <td>NaN</td>\n",
       "      <td>NaN</td>\n",
       "    </tr>\n",
       "    <tr>\n",
       "      <th>0</th>\n",
       "      <td>7</td>\n",
       "      <td>NaN</td>\n",
       "      <td>NaN</td>\n",
       "      <td>NaN</td>\n",
       "      <td>-0.228298</td>\n",
       "      <td>-1.405262</td>\n",
       "    </tr>\n",
       "    <tr>\n",
       "      <th>1</th>\n",
       "      <td>6</td>\n",
       "      <td>NaN</td>\n",
       "      <td>NaN</td>\n",
       "      <td>NaN</td>\n",
       "      <td>1.084732</td>\n",
       "      <td>0.937349</td>\n",
       "    </tr>\n",
       "    <tr>\n",
       "      <th>2</th>\n",
       "      <td>5</td>\n",
       "      <td>NaN</td>\n",
       "      <td>NaN</td>\n",
       "      <td>NaN</td>\n",
       "      <td>-2.191988</td>\n",
       "      <td>0.286772</td>\n",
       "    </tr>\n",
       "    <tr>\n",
       "      <th>3</th>\n",
       "      <td>4</td>\n",
       "      <td>NaN</td>\n",
       "      <td>NaN</td>\n",
       "      <td>NaN</td>\n",
       "      <td>-0.694788</td>\n",
       "      <td>-0.832678</td>\n",
       "    </tr>\n",
       "    <tr>\n",
       "      <th>4</th>\n",
       "      <td>3</td>\n",
       "      <td>NaN</td>\n",
       "      <td>NaN</td>\n",
       "      <td>NaN</td>\n",
       "      <td>0.744752</td>\n",
       "      <td>-0.739712</td>\n",
       "    </tr>\n",
       "    <tr>\n",
       "      <th>5</th>\n",
       "      <td>2</td>\n",
       "      <td>NaN</td>\n",
       "      <td>NaN</td>\n",
       "      <td>NaN</td>\n",
       "      <td>-1.273865</td>\n",
       "      <td>0.701657</td>\n",
       "    </tr>\n",
       "    <tr>\n",
       "      <th>6</th>\n",
       "      <td>1</td>\n",
       "      <td>NaN</td>\n",
       "      <td>NaN</td>\n",
       "      <td>NaN</td>\n",
       "      <td>1.017423</td>\n",
       "      <td>-0.144058</td>\n",
       "    </tr>\n",
       "    <tr>\n",
       "      <th>7</th>\n",
       "      <td>0</td>\n",
       "      <td>NaN</td>\n",
       "      <td>NaN</td>\n",
       "      <td>NaN</td>\n",
       "      <td>-0.149049</td>\n",
       "      <td>0.286115</td>\n",
       "    </tr>\n",
       "  </tbody>\n",
       "</table>\n",
       "</div>"
      ],
      "text/plain": [
       "   id      A         B         C         D         E\n",
       "0   0    one -0.731948  1.564686       NaN       NaN\n",
       "1   1    one -0.904705  0.780510       NaN       NaN\n",
       "2   2    two -0.169887  2.822732       NaN       NaN\n",
       "3   3  three  0.698322  0.368751       NaN       NaN\n",
       "4   4    two -0.254313 -1.030701       NaN       NaN\n",
       "5   5    two  0.926836  0.412337       NaN       NaN\n",
       "6   6    one  1.377527  0.481531       NaN       NaN\n",
       "7   7  three -0.105036 -1.229390       NaN       NaN\n",
       "0   7    NaN       NaN       NaN -0.228298 -1.405262\n",
       "1   6    NaN       NaN       NaN  1.084732  0.937349\n",
       "2   5    NaN       NaN       NaN -2.191988  0.286772\n",
       "3   4    NaN       NaN       NaN -0.694788 -0.832678\n",
       "4   3    NaN       NaN       NaN  0.744752 -0.739712\n",
       "5   2    NaN       NaN       NaN -1.273865  0.701657\n",
       "6   1    NaN       NaN       NaN  1.017423 -0.144058\n",
       "7   0    NaN       NaN       NaN -0.149049  0.286115"
      ]
     },
     "execution_count": 9,
     "metadata": {},
     "output_type": "execute_result"
    }
   ],
   "source": [
    "df = pd.DataFrame({'id':range(8),\n",
    "                   'A':['one', 'one', 'two', 'three',\n",
    "                       'two', 'two', 'one', 'three'],\n",
    "                   'B': np.random.randn(8),           # creates a numpy array with random numbers\n",
    "                   'C': np.random.randn(8)})\n",
    "\n",
    "df2 = pd.DataFrame({'id':range(7,-1,-1),\n",
    "                    'D': np.random.randn(8),\n",
    "                    'E': np.random.randn(8)})\n",
    "\n",
    "print(\"group by same values in column A and calculate the sum for each group\")\n",
    "print(df.groupby(\"A\").sum())\n",
    "\n",
    "print()\n",
    "print(\"merge two data frames such that the rows that are equal in the 'on' column are combined\")\n",
    "print(pd.merge(df, df2, on=\"id\"))\n",
    "\n",
    "print(\"concatenate two dataframes, missing columns are filled with NaN\")\n",
    "pd.concat([df, df2], sort=False)"
   ]
  },
  {
   "cell_type": "markdown",
   "metadata": {},
   "source": [
    "Fehlende Werte, die sich durch NaN in Dataframes widerspiegeln, kommen häufig vor. Der Umgang hiermit wird durch die Methoden ```dropna``` und ```fillna``` unterstützt. "
   ]
  },
  {
   "cell_type": "code",
   "execution_count": 10,
   "metadata": {},
   "outputs": [
    {
     "name": "stdout",
     "output_type": "stream",
     "text": [
      "drop all rows that contain a NaN\n",
      "   col1  col2  col3\n",
      "1     3     4   5.0\n",
      "\n",
      "replace all NaN with a given value\n",
      "   col1  col2  col3\n",
      "0     1     2   0.0\n",
      "1     3     4   5.0\n"
     ]
    }
   ],
   "source": [
    "df = pd.DataFrame([{\"col1\": 1, \"col2\":2}, {\"col1\":3, \"col2\":4, \"col3\":5}])\n",
    "\n",
    "print(\"drop all rows that contain a NaN\")\n",
    "print(df.dropna())\n",
    "\n",
    "print()\n",
    "print(\"replace all NaN with a given value\")\n",
    "print(df.fillna(0))"
   ]
  },
  {
   "cell_type": "markdown",
   "metadata": {},
   "source": [
    "## Operationen auf Dataframes\n",
    "\n",
    "Ein mächtiges Feature von ```pandas``` ist die Möglichkeit Operationen Zeilen, bzw. Spaltenweise auf Dataframes anzuwenden. Von Haus aus wird zum Beispiel die Berechnung von Mittelwerten und Standardabweichungen mitgeliefert."
   ]
  },
  {
   "cell_type": "code",
   "execution_count": 11,
   "metadata": {},
   "outputs": [
    {
     "name": "stdout",
     "output_type": "stream",
     "text": [
      "mean value of each column\n",
      "A   -0.330295\n",
      "B    0.027918\n",
      "c    0.259981\n",
      "dtype: float64\n",
      "\n",
      "standard deviation of each column\n",
      "A    1.075840\n",
      "B    0.861903\n",
      "c    0.901520\n",
      "dtype: float64\n"
     ]
    }
   ],
   "source": [
    "df = pd.DataFrame({'A': np.random.randn(20),\n",
    "                   'B': np.random.randn(20),\n",
    "                   'c': np.random.randn(20)})\n",
    "\n",
    "print(\"mean value of each column\")\n",
    "print(df.mean())\n",
    "\n",
    "print()\n",
    "print(\"standard deviation of each column\")\n",
    "print(df.std())"
   ]
  },
  {
   "cell_type": "markdown",
   "metadata": {},
   "source": [
    "Man kann aber auch beliebige Funktionen hierfür definieren und anwenden. Hier kommen die in Kapitel 4 eingeführten Lambda Ausdrücke um anonyme Funktionen zu definieren wieder ins Spiel. Diese kann man nämlich auf Dataframes anwenden. "
   ]
  },
  {
   "cell_type": "code",
   "execution_count": 12,
   "metadata": {},
   "outputs": [
    {
     "name": "stdout",
     "output_type": "stream",
     "text": [
      "difference between the 0.75 and 0.25 percentile for each column\n",
      "A    1.710909\n",
      "B    0.929142\n",
      "c    0.956636\n",
      "dtype: float64\n"
     ]
    }
   ],
   "source": [
    "print(\"difference between the 0.75 and 0.25 percentile for each column\")\n",
    "print(df.apply(lambda x: x.quantile(0.75)-x.quantile(.25)))"
   ]
  },
  {
   "cell_type": "markdown",
   "metadata": {},
   "source": [
    "In den obigen Beispielen wurden die Operationen jeweils auf die Spalten eines Dataframes angewendet. Man kann die Operationen auch auf die Zeilen anwenden. Hierzu muss man die Achse (*axis*) definieren, auf der eine Operation angewendet werden soll. Es gibt zwei Achsen bei Dataframes: \"index\", bzw. 0 sind die Zeilen, \"columns\", bzw. 1 sind die Spalten. In der Regel wird die Achse 0 per Default genommen, das heißt die Operation läuft innerhalb einer Spalte entlang der Zeilen. Bei der Achse 1 wird innerhalb der Zeilen entlang der Spalten gelaufen. Um die Mittelwerte der Zeilen zu berechnen, muss man also als Achse 1, bzw.\"columns\" angeben. "
   ]
  },
  {
   "cell_type": "code",
   "execution_count": 13,
   "metadata": {},
   "outputs": [
    {
     "name": "stdout",
     "output_type": "stream",
     "text": [
      "mean value of each row\n",
      "0     0.025386\n",
      "1     0.150934\n",
      "2    -0.524418\n",
      "3     1.644007\n",
      "4    -0.689060\n",
      "5     0.291817\n",
      "6     0.561544\n",
      "7    -0.204946\n",
      "8     0.311832\n",
      "9    -0.019685\n",
      "10    0.873925\n",
      "11   -1.467710\n",
      "12    0.313988\n",
      "13    0.386835\n",
      "14   -0.244184\n",
      "15    0.101804\n",
      "16   -1.356183\n",
      "17   -0.644020\n",
      "18    0.041391\n",
      "19    0.164103\n",
      "dtype: float64\n"
     ]
    }
   ],
   "source": [
    "print(\"mean value of each row\")\n",
    "print(df.mean(axis=1))"
   ]
  },
  {
   "cell_type": "markdown",
   "metadata": {},
   "source": [
    "## Lesen und Schreiben von Dataframes\n",
    "\n",
    "Bevor man mit Daten arbeiten kann, muss man diese erstmal einlesen. Wie man CSV Daten als Listen liest, [haben wir bereits behandelt](#Lesen-von-CSV-Dateien). Dataframes unterstützen auch das Lesen und Schreiben von CSV Dateien, ohne das man den Umweg über Listen gehen muss. Hierzu gibt es die Funktionen ```read_csv``` und ```to_csv```. "
   ]
  },
  {
   "cell_type": "code",
   "execution_count": 14,
   "metadata": {},
   "outputs": [
    {
     "data": {
      "text/html": [
       "<div>\n",
       "<style scoped>\n",
       "    .dataframe tbody tr th:only-of-type {\n",
       "        vertical-align: middle;\n",
       "    }\n",
       "\n",
       "    .dataframe tbody tr th {\n",
       "        vertical-align: top;\n",
       "    }\n",
       "\n",
       "    .dataframe thead th {\n",
       "        text-align: right;\n",
       "    }\n",
       "</style>\n",
       "<table border=\"1\" class=\"dataframe\">\n",
       "  <thead>\n",
       "    <tr style=\"text-align: right;\">\n",
       "      <th></th>\n",
       "      <th>0</th>\n",
       "      <th>1</th>\n",
       "      <th>2</th>\n",
       "      <th>3</th>\n",
       "      <th>4</th>\n",
       "      <th>5</th>\n",
       "      <th>6</th>\n",
       "      <th>7</th>\n",
       "      <th>8</th>\n",
       "      <th>9</th>\n",
       "    </tr>\n",
       "  </thead>\n",
       "  <tbody>\n",
       "    <tr>\n",
       "      <th>0</th>\n",
       "      <td>1</td>\n",
       "      <td>Eldon Base for stackable storage shelf, platinum</td>\n",
       "      <td>Muhammed MacIntyre</td>\n",
       "      <td>3</td>\n",
       "      <td>-213.25</td>\n",
       "      <td>38.94</td>\n",
       "      <td>35.00</td>\n",
       "      <td>Nunavut</td>\n",
       "      <td>Storage &amp; Organization</td>\n",
       "      <td>0.80</td>\n",
       "    </tr>\n",
       "    <tr>\n",
       "      <th>1</th>\n",
       "      <td>2</td>\n",
       "      <td>1.7 Cubic Foot Compact \"Cube\" Office Refrigera...</td>\n",
       "      <td>Barry French</td>\n",
       "      <td>293</td>\n",
       "      <td>457.81</td>\n",
       "      <td>208.16</td>\n",
       "      <td>68.02</td>\n",
       "      <td>Nunavut</td>\n",
       "      <td>Appliances</td>\n",
       "      <td>0.58</td>\n",
       "    </tr>\n",
       "    <tr>\n",
       "      <th>2</th>\n",
       "      <td>3</td>\n",
       "      <td>Cardinal Slant-D® Ring Binder, Heavy Gauge Vinyl</td>\n",
       "      <td>Barry French</td>\n",
       "      <td>293</td>\n",
       "      <td>46.71</td>\n",
       "      <td>8.69</td>\n",
       "      <td>2.99</td>\n",
       "      <td>Nunavut</td>\n",
       "      <td>Binders and Binder Accessories</td>\n",
       "      <td>0.39</td>\n",
       "    </tr>\n",
       "    <tr>\n",
       "      <th>3</th>\n",
       "      <td>4</td>\n",
       "      <td>R380</td>\n",
       "      <td>Clay Rozendal</td>\n",
       "      <td>483</td>\n",
       "      <td>1198.97</td>\n",
       "      <td>195.99</td>\n",
       "      <td>3.99</td>\n",
       "      <td>Nunavut</td>\n",
       "      <td>Telephones and Communication</td>\n",
       "      <td>0.58</td>\n",
       "    </tr>\n",
       "    <tr>\n",
       "      <th>4</th>\n",
       "      <td>5</td>\n",
       "      <td>Holmes HEPA Air Purifier</td>\n",
       "      <td>Carlos Soltero</td>\n",
       "      <td>515</td>\n",
       "      <td>30.94</td>\n",
       "      <td>21.78</td>\n",
       "      <td>5.94</td>\n",
       "      <td>Nunavut</td>\n",
       "      <td>Appliances</td>\n",
       "      <td>0.50</td>\n",
       "    </tr>\n",
       "    <tr>\n",
       "      <th>5</th>\n",
       "      <td>6</td>\n",
       "      <td>G.E. Longer-Life Indoor Recessed Floodlight Bulbs</td>\n",
       "      <td>Carlos Soltero</td>\n",
       "      <td>515</td>\n",
       "      <td>4.43</td>\n",
       "      <td>6.64</td>\n",
       "      <td>4.95</td>\n",
       "      <td>Nunavut</td>\n",
       "      <td>Office Furnishings</td>\n",
       "      <td>0.37</td>\n",
       "    </tr>\n",
       "    <tr>\n",
       "      <th>6</th>\n",
       "      <td>7</td>\n",
       "      <td>Angle-D Binders with Locking Rings, Label Holders</td>\n",
       "      <td>Carl Jackson</td>\n",
       "      <td>613</td>\n",
       "      <td>-54.04</td>\n",
       "      <td>7.30</td>\n",
       "      <td>7.72</td>\n",
       "      <td>Nunavut</td>\n",
       "      <td>Binders and Binder Accessories</td>\n",
       "      <td>0.38</td>\n",
       "    </tr>\n",
       "    <tr>\n",
       "      <th>7</th>\n",
       "      <td>8</td>\n",
       "      <td>SAFCO Mobile Desk Side File, Wire Frame</td>\n",
       "      <td>Carl Jackson</td>\n",
       "      <td>613</td>\n",
       "      <td>127.70</td>\n",
       "      <td>42.76</td>\n",
       "      <td>6.22</td>\n",
       "      <td>Nunavut</td>\n",
       "      <td>Storage &amp; Organization</td>\n",
       "      <td>NaN</td>\n",
       "    </tr>\n",
       "    <tr>\n",
       "      <th>8</th>\n",
       "      <td>9</td>\n",
       "      <td>SAFCO Commercial Wire Shelving, Black</td>\n",
       "      <td>Monica Federle</td>\n",
       "      <td>643</td>\n",
       "      <td>-695.26</td>\n",
       "      <td>138.14</td>\n",
       "      <td>35.00</td>\n",
       "      <td>Nunavut</td>\n",
       "      <td>Storage &amp; Organization</td>\n",
       "      <td>NaN</td>\n",
       "    </tr>\n",
       "    <tr>\n",
       "      <th>9</th>\n",
       "      <td>10</td>\n",
       "      <td>Xerox 198</td>\n",
       "      <td>Dorothy Badders</td>\n",
       "      <td>678</td>\n",
       "      <td>-226.36</td>\n",
       "      <td>4.98</td>\n",
       "      <td>8.33</td>\n",
       "      <td>Nunavut</td>\n",
       "      <td>Paper</td>\n",
       "      <td>0.38</td>\n",
       "    </tr>\n",
       "  </tbody>\n",
       "</table>\n",
       "</div>"
      ],
      "text/plain": [
       "    0                                                  1                   2  \\\n",
       "0   1   Eldon Base for stackable storage shelf, platinum  Muhammed MacIntyre   \n",
       "1   2  1.7 Cubic Foot Compact \"Cube\" Office Refrigera...        Barry French   \n",
       "2   3   Cardinal Slant-D® Ring Binder, Heavy Gauge Vinyl        Barry French   \n",
       "3   4                                               R380       Clay Rozendal   \n",
       "4   5                           Holmes HEPA Air Purifier      Carlos Soltero   \n",
       "5   6  G.E. Longer-Life Indoor Recessed Floodlight Bulbs      Carlos Soltero   \n",
       "6   7  Angle-D Binders with Locking Rings, Label Holders        Carl Jackson   \n",
       "7   8            SAFCO Mobile Desk Side File, Wire Frame        Carl Jackson   \n",
       "8   9              SAFCO Commercial Wire Shelving, Black      Monica Federle   \n",
       "9  10                                          Xerox 198     Dorothy Badders   \n",
       "\n",
       "     3        4       5      6        7                               8     9  \n",
       "0    3  -213.25   38.94  35.00  Nunavut          Storage & Organization  0.80  \n",
       "1  293   457.81  208.16  68.02  Nunavut                      Appliances  0.58  \n",
       "2  293    46.71    8.69   2.99  Nunavut  Binders and Binder Accessories  0.39  \n",
       "3  483  1198.97  195.99   3.99  Nunavut    Telephones and Communication  0.58  \n",
       "4  515    30.94   21.78   5.94  Nunavut                      Appliances  0.50  \n",
       "5  515     4.43    6.64   4.95  Nunavut              Office Furnishings  0.37  \n",
       "6  613   -54.04    7.30   7.72  Nunavut  Binders and Binder Accessories  0.38  \n",
       "7  613   127.70   42.76   6.22  Nunavut          Storage & Organization   NaN  \n",
       "8  643  -695.26  138.14  35.00  Nunavut          Storage & Organization   NaN  \n",
       "9  678  -226.36    4.98   8.33  Nunavut                           Paper  0.38  "
      ]
     },
     "execution_count": 14,
     "metadata": {},
     "output_type": "execute_result"
    }
   ],
   "source": [
    "df = pd.read_csv(\"../examples/csv-example.csv\", header=None)\n",
    "df"
   ]
  },
  {
   "cell_type": "markdown",
   "metadata": {},
   "source": [
    "## Visualisieren von DataFrames\n",
    "\n",
    "Pandas liefert auch von selbst Funktionen mit, mit deren Hilfe man einfache Visualisierungen von Daten in Dataframes machen kann, zum Beispiel Histogramme, Punktwolken (*scatterplots*), Balkendiagramme (*bar charts*), oder Liniendiagramme (*line charts*)."
   ]
  },
  {
   "cell_type": "code",
   "execution_count": 15,
   "metadata": {},
   "outputs": [
    {
     "data": {
      "text/plain": [
       "<matplotlib.axes._subplots.AxesSubplot at 0x7fcae62e0470>"
      ]
     },
     "execution_count": 15,
     "metadata": {},
     "output_type": "execute_result"
    }
   ],
   "source": [
    "df = pd.DataFrame({'A': np.linspace(0,10,100)+np.random.randn(100),\n",
    "                   'B': np.linspace(0,10,100)+np.random.randn(100)})\n",
    "\n",
    "df.plot(kind=\"hist\", alpha=0.5)\n",
    "df.plot(kind=\"scatter\", x=\"A\", y=\"B\")\n",
    "df.plot(kind=\"bar\")\n",
    "df.plot()"
   ]
  },
  {
   "cell_type": "markdown",
   "metadata": {},
   "source": [
    "# Visualisieren von Daten\n",
    "\n",
    "Die Grafiken, die oben aus den Dataframes erstellt wurden, sind nicht mit Funktionen von ```pandas``` selbst erstellt. Stattdessen nutzt ```pandas``` hierfür das [Package ```matplotlib```](https://matplotlib.org/). ```matplotlib``` ist ein sehr vielseitiges Package zum Erstellen von Grafiken. Wir betrachten ```matplotlib``` Anhand von Beispielen für die wichtigsten Visualisierungen. \n",
    "\n",
    "## Der erste Plot\n",
    "\n",
    "Um mit ```matplotlib``` Grafiken zu erstellen, verwendet man ```pyplot```. Mit ```pyplot``` erstellt man Grafiken nicht in einer einzigen, sehr mächtigen Anweisung. Stattdessen wird die Grafik durch eine Sequenz von Anweisungen definiert und intern in einem Zustandsautomaten verwaltet, bis die Ausgabe erfolgt. Grafiken (*figures*) werden in der Regel über *plots* erstellt, also Anweisungen was aufgetragen werden soll. "
   ]
  },
  {
   "cell_type": "code",
   "execution_count": 16,
   "metadata": {},
   "outputs": [
    {
     "data": {
      "image/png": "[encoded data removed]",
      "text/plain": [
       "<Figure size 432x288 with 1 Axes>"
      ]
     },
     "metadata": {
      "needs_background": "light"
     },
     "output_type": "display_data"
    }
   ],
   "source": [
    "# magic to make plots work correctly in Jupyter notebooks\n",
    "%matplotlib inline\n",
    "\n",
    "import numpy as np\n",
    "import matplotlib.pyplot as plt                 # pyplot is usually imported with the alias plt\n",
    "\n",
    "x = np.linspace(0,10,100)+np.random.randn(100)  # some data for our scatter plot\n",
    "y = np.linspace(0,10,100)+np.random.randn(100)\n",
    "\n",
    "plt.figure()                                    # starts a new figure\n",
    "plt.scatter(x, y)                               # adds point to the figure as a plot of points\n",
    "plt.xlabel(\"x\")                                 # sets the label of the x-axis\n",
    "plt.ylabel(\"y\")                                 # sets the label of the y-axis\n",
    "plt.title(\"A simple scatterplot\")               # sets the title of the plot\n",
    "plt.show()                                      # shows the plot"
   ]
  },
  {
   "cell_type": "markdown",
   "metadata": {},
   "source": [
    "## Übersicht über die Arten von Grafiken\n",
    "\n",
    "Die Möglichkeiten von ```matplotlib``` sind [riesig](https://matplotlib.org/gallery/index.html). In der Praxis ist es so, dass man sich überlegen sollte, welche Information man darstellen möchte und dann eine geeignete Grafik auswählt, die zu diesem Problem passt. Daher gibt es im folgenden nur einige Beispiele für Grafiken mit ```matplotlib```. Scatterplots haben wir oben bereits gesehen. Scatterplots sind gut dafür geeignet, den Zusammenhang zwischen zwei Variablen darzustellen. Im folgenden gibt es noch Beispiele für Histogramme, Liniengrafiken, und Boxplots. \n",
    "\n",
    "Will man wissen in welchem Bereich wie viele Daten sind, um zum Beispiel etwas über Wahrscheinlichkeitsverteilungen zu erfahren, sind Histogramme nützlich."
   ]
  },
  {
   "cell_type": "code",
   "execution_count": 17,
   "metadata": {},
   "outputs": [
    {
     "data": {
      "image/png": "[encoded data removed]",
      "text/plain": [
       "<Figure size 432x288 with 1 Axes>"
      ]
     },
     "metadata": {
      "needs_background": "light"
     },
     "output_type": "display_data"
    }
   ],
   "source": [
    "x = np.random.randn(1000)  # some data for our scatter plot\n",
    "y = np.random.randn(1000)\n",
    "\n",
    "plt.figure()\n",
    "plt.hist(x, bins=20, alpha=0.5, label=\"x\") # bins defines the number of bins for the histogram\n",
    "plt.hist(y, bins=20, alpha=0.5, label=\"y\") # alpha is for the transparency\n",
    "plt.legend()                               # display the legend\n",
    "plt.show()"
   ]
  },
  {
   "cell_type": "markdown",
   "metadata": {},
   "source": [
    "Liniengrafiken sind gut um den Verlauf zwischen Datenpunkten zu zeigen, zum Beispiel über die Zeit."
   ]
  },
  {
   "cell_type": "code",
   "execution_count": 18,
   "metadata": {},
   "outputs": [
    {
     "data": {
      "image/png": "[encoded data removed]",
      "text/plain": [
       "<Figure size 432x288 with 1 Axes>"
      ]
     },
     "metadata": {
      "needs_background": "light"
     },
     "output_type": "display_data"
    }
   ],
   "source": [
    "x = np.linspace(0,10,100)+np.random.randn(100)  # some data for our scatter plot\n",
    "\n",
    "plt.figure()\n",
    "plt.plot(x)\n",
    "plt.show()"
   ]
  },
  {
   "cell_type": "markdown",
   "metadata": {},
   "source": [
    "[Boxplots](https://www.data-to-viz.com/caveat/boxplot.html) sind gut geeignet, um etwas über die Verteilung von Daten auszusagen. Am besten hinterlegt man das ganze noch mit den echten Datenpunkten als *jitter*."
   ]
  },
  {
   "cell_type": "code",
   "execution_count": 19,
   "metadata": {},
   "outputs": [
    {
     "data": {
      "image/png": "[encoded data removed]",
      "text/plain": [
       "<Figure size 432x288 with 1 Axes>"
      ]
     },
     "metadata": {
      "needs_background": "light"
     },
     "output_type": "display_data"
    }
   ],
   "source": [
    "x = np.random.rand(100)  # some data for our scatter plot\n",
    "y = np.log(np.random.rand(100)+1)\n",
    "\n",
    "data = [x,y]\n",
    "\n",
    "plt.figure()\n",
    "plt.boxplot(data)\n",
    "# creating background points is a bit tricky\n",
    "for i in range(len(data)):\n",
    "    jitter_y = data[i]                                        # y values are the data points\n",
    "    jitter_x = np.random.normal(i+1,0.04, size=len(jitter_y)) # x values are the number of the box and some noise\n",
    "    plt.scatter(jitter_x,jitter_y, alpha=0.1)                 # makre sure to make jitter transparent\n",
    "plt.show()\n"
   ]
  },
  {
   "cell_type": "markdown",
   "metadata": {},
   "source": [
    "# Graphen\n",
    "\n",
    "Graphen im mathematischen Sinne sind eine Datenstruktur $G=(V,E)$, die aus Knoten (*vertices*) und Kanten (*edges*) besteht. Eine Kante zwischen zwei Knoten stellt eine Verbindung dar, die gerichtet oder ungerichtet sein kann. Graphen sind die Grundlage zur Analyse von Netzwerken, zum Beispiel von sozialen Netzwerken. \n",
    "\n",
    "Eine beliebtes Package zum Arbeiten mit Graphen in Python ist [```networkx```](https://networkx.github.io/). Hiermit kann man einfach Graphen erstellen und [mit vielen Algorithmen analysieren](https://networkx.github.io/documentation/stable/reference/algorithms/index.html). Um einen Graphen zu erstellen, nutzt man einfach beliebige Python Objekte als Knoten und Tuple zwischen diesen Knoten als Kanten. Über Dictionaries kann man die Tupel erweitern und Attribute an den Knoten/Kanten speichern. "
   ]
  },
  {
   "cell_type": "code",
   "execution_count": 20,
   "metadata": {},
   "outputs": [
    {
     "name": "stdout",
     "output_type": "stream",
     "text": [
      "some information about our graph:\n",
      "  number of nodes: 4\n",
      "  number of edges: 4\n",
      "  nodes: [1, 2, 3, 4]\n",
      "  edges: [(1, 2), (1, 3), (2, 3), (2, 4)]\n",
      "  degree of nodes: [(1, 2), (2, 3), (3, 2), (4, 1)]\n",
      "\n",
      "some detailed information about the graph:\n",
      "  neighbors of node 1: {2: {'weight': 0.6}, 3: {'weight': 0.4}}\n",
      "  edges starting in node 1\n",
      "    to 2 with weight 0.6\n",
      "    to 3 with weight 0.4\n",
      "  edges starting in node 2\n",
      "    to 3 with weight 0.3\n",
      "    to 4 with weight 0.7\n",
      "  edges starting in node 3\n",
      "  edges starting in node 4\n"
     ]
    }
   ],
   "source": [
    "import networkx as nx\n",
    "\n",
    "graph = nx.DiGraph()                          # creates a direct graph, use Graph for undirected\n",
    "\n",
    "graph.add_node(1)                             # adds a single node\n",
    "graph.add_nodes_from([2,3,4])                 # adds nodes from a sequence\n",
    "\n",
    "graph.add_edge(1,2)                           # adds a single edge\n",
    "graph.add_edges_from([(1,3), (2,3), (2,4)])   # adds edges from a sequence\n",
    "graph.add_edges_from([(1,2, {\"weight\":0.6}),\n",
    "                      (1,3, {\"weight\":0.4}),\n",
    "                      (2,3, {\"weight\":0.3}),\n",
    "                      (2,4, {\"weight\":0.7})]) # adds edges with attributes, in this case \"weight\"\n",
    "\n",
    "\n",
    "print(\"some information about our graph:\")\n",
    "print(\"  number of nodes:\", graph.number_of_nodes())\n",
    "print(\"  number of edges:\", graph.number_of_edges())\n",
    "print(\"  nodes:\", graph.nodes())\n",
    "print(\"  edges:\", graph.edges())\n",
    "print(\"  degree of nodes:\", graph.degree())\n",
    "\n",
    "graph.edges[1,2]['weight']\n",
    "print()\n",
    "print(\"some detailed information about the graph:\")\n",
    "print(\"  neighbors of node 1:\", graph[1])\n",
    "for node, neighbors in graph.adjacency():\n",
    "    print(\"  edges starting in node\", node)\n",
    "    for neighbor in neighbors:\n",
    "        print(f\"    to {neighbor} with weight {graph.edges[node, neighbor]['weight']}\")"
   ]
  },
  {
   "cell_type": "markdown",
   "metadata": {},
   "source": [
    "Mit ```matplotlib``` kann man die Graphen einfach visualisieren. "
   ]
  },
  {
   "cell_type": "code",
   "execution_count": 21,
   "metadata": {},
   "outputs": [
    {
     "data": {
      "image/png": "[encoded data removed]",
      "text/plain": [
       "<Figure size 432x288 with 1 Axes>"
      ]
     },
     "metadata": {},
     "output_type": "display_data"
    }
   ],
   "source": [
    "%matplotlib inline\n",
    "import matplotlib.pyplot as plt \n",
    "\n",
    "plt.figure()\n",
    "nx.draw_circular(graph, with_labels=True)\n",
    "plt.show()"
   ]
  },
  {
   "cell_type": "markdown",
   "metadata": {},
   "source": [
    "```networkx``` sorgt dafür, das Graphen konsistent bleiben. Löscht man einen Knoten, werden auch alle dazu gehörigen Kanten automatisch gelöscht. "
   ]
  },
  {
   "cell_type": "code",
   "execution_count": 22,
   "metadata": {},
   "outputs": [
    {
     "data": {
      "image/png": "[encoded data removed]",
      "text/plain": [
       "<Figure size 432x288 with 1 Axes>"
      ]
     },
     "metadata": {},
     "output_type": "display_data"
    }
   ],
   "source": [
    "graph.remove_node(4)\n",
    "graph.remove_edge(1,2)\n",
    "\n",
    "plt.figure()\n",
    "nx.draw(graph, with_labels=True)\n",
    "plt.show()"
   ]
  }
 ],
 "metadata": {
  "kernelspec": {
   "display_name": "Python 3",
   "language": "python",
   "name": "python3"
  },
  "language_info": {
   "codemirror_mode": {
    "name": "ipython",
    "version": 3
   },
   "file_extension": ".py",
   "mimetype": "text/x-python",
   "name": "python",
   "nbconvert_exporter": "python",
   "pygments_lexer": "ipython3",
   "version": "3.6.7"
  }
 },
 "nbformat": 4,
 "nbformat_minor": 2
}
